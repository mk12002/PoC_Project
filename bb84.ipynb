{
 "cells": [
  {
   "cell_type": "code",
   "execution_count": 6,
   "metadata": {},
   "outputs": [],
   "source": [
    "import numpy as np\n"
   ]
  },
  {
   "cell_type": "code",
   "execution_count": 7,
   "metadata": {},
   "outputs": [],
   "source": [
    "def generate_bits(n):\n",
    "    \"\"\"Generate a random bit string of length n.\"\"\"\n",
    "    return np.random.randint(2, size=n)\n",
    "\n",
    "def generate_bases(n):\n",
    "    \"\"\"Generate random measurement bases: + (0) or x (1).\"\"\"\n",
    "    return np.random.randint(2, size=n)"
   ]
  },
  {
   "cell_type": "code",
   "execution_count": 8,
   "metadata": {},
   "outputs": [],
   "source": [
    "def encode_qubits(bits, bases):\n",
    "    \"\"\"Encode bits into qubits based on bases.\"\"\"\n",
    "    return [\n",
    "        'H' if bit == 1 and base == 0 else 'V' if bit == 0 and base == 0 \n",
    "        else 'D' if bit == 1 and base == 1 else 'A'\n",
    "        for bit, base in zip(bits, bases)\n",
    "    ]\n",
    "\n",
    "def measure_qubits(qubits, bases):\n",
    "    \"\"\"Measure qubits in given bases.\"\"\"\n",
    "    results = []\n",
    "    for qubit, base in zip(qubits, bases):\n",
    "        if base == 0:  # Standard Basis (+)\n",
    "            results.append(1 if qubit == 'H' else 0)\n",
    "        else:  # Diagonal Basis (x)\n",
    "            results.append(1 if qubit == 'D' else 0)\n",
    "    return results"
   ]
  },
  {
   "cell_type": "code",
   "execution_count": 9,
   "metadata": {},
   "outputs": [],
   "source": [
    "def sift_key(sender_bases, receiver_bases, bob_bits):\n",
    "    \"\"\"Generate the final key using Bob's measured bits where bases match.\"\"\"\n",
    "    return [bit for sb, rb, bit in zip(sender_bases, receiver_bases, bob_bits) if sb == rb]\n"
   ]
  },
  {
   "cell_type": "code",
   "execution_count": 10,
   "metadata": {},
   "outputs": [],
   "source": [
    "def simulate_qkd(n):\n",
    "    \"\"\"Simulate the BB84 Quantum Key Distribution protocol.\"\"\"\n",
    "    print(\"\\n--- Quantum Key Distribution Simulation (BB84 Protocol) ---\\n\")\n",
    "    \n",
    "    # Step 1: Alice generates random bits and bases\n",
    "    alice_bits = generate_bits(n)\n",
    "    alice_bases = generate_bases(n)\n",
    "    \n",
    "    print(f\"Alice's Bits: {alice_bits}\")\n",
    "    print(f\"Alice's Bases: {alice_bases}\")\n",
    "    \n",
    "    # Step 2: Alice encodes qubits\n",
    "    qubits = encode_qubits(alice_bits, alice_bases)\n",
    "    \n",
    "    # Step 3: Bob chooses random bases\n",
    "    bob_bases = generate_bases(n)\n",
    "    print(f\"Bob's Bases: {bob_bases}\")\n",
    "    \n",
    "    # Step 4: Bob measures qubits\n",
    "    bob_results = measure_qubits(qubits, bob_bases)\n",
    "    print(f\"Bob's Measured Bits: {bob_results}\")\n",
    "    \n",
    "    # Step 5: Sifting Key - Alice and Bob compare bases\n",
    "    sifted_key = sift_key(alice_bases, bob_bases, bob_results)\n",
    "    print(f\"Sifted Key: {sifted_key}\")\n",
    "    \n",
    "    # Step 6: Checking for Eavesdropping (Error Checking - not fully implemented here)\n",
    "    print(\"\\nKey exchange complete. If an eavesdropper was present, errors would be detected.\\n\")\n",
    "    \n",
    "    return sifted_key"
   ]
  },
  {
   "cell_type": "code",
   "execution_count": 11,
   "metadata": {},
   "outputs": [
    {
     "name": "stdout",
     "output_type": "stream",
     "text": [
      "\n",
      "--- Quantum Key Distribution Simulation (BB84 Protocol) ---\n",
      "\n",
      "Alice's Bits: [0 0 0 0 1 1 0 0 1 1 1 0 1 1 0 0 0 1 0 1]\n",
      "Alice's Bases: [1 0 0 1 1 0 0 0 0 0 0 1 0 1 1 0 1 1 0 0]\n",
      "Bob's Bases: [1 1 1 0 0 1 1 0 0 0 1 1 1 0 1 0 1 0 1 0]\n",
      "Bob's Measured Bits: [0, 0, 0, 0, 0, 0, 0, 0, 1, 1, 0, 0, 0, 0, 0, 0, 0, 0, 0, 1]\n",
      "Sifted Key: [0, 0, 1, 1, 0, 0, 0, 0, 1]\n",
      "\n",
      "Key exchange complete. If an eavesdropper was present, errors would be detected.\n",
      "\n"
     ]
    }
   ],
   "source": [
    "# Run the Quantum Key Distribution Simulation\n",
    "key = simulate_qkd(20)"
   ]
  },
  {
   "cell_type": "code",
   "execution_count": 12,
   "metadata": {},
   "outputs": [
    {
     "name": "stdout",
     "output_type": "stream",
     "text": [
      "\n",
      "🔑 Final Shared Secret Key: [0, 0, 1, 1, 0, 0, 0, 0, 1]\n",
      "\n"
     ]
    }
   ],
   "source": [
    "print(f\"\\n🔑 Final Shared Secret Key: {key}\\n\")"
   ]
  },
  {
   "cell_type": "code",
   "execution_count": null,
   "metadata": {},
   "outputs": [],
   "source": []
  }
 ],
 "metadata": {
  "kernelspec": {
   "display_name": "poc",
   "language": "python",
   "name": "python3"
  },
  "language_info": {
   "codemirror_mode": {
    "name": "ipython",
    "version": 3
   },
   "file_extension": ".py",
   "mimetype": "text/x-python",
   "name": "python",
   "nbconvert_exporter": "python",
   "pygments_lexer": "ipython3",
   "version": "3.13.1"
  }
 },
 "nbformat": 4,
 "nbformat_minor": 2
}
