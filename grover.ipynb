{
 "cells": [
  {
   "cell_type": "code",
   "execution_count": 1,
   "id": "bb2329f3-738f-46ae-9bfc-cf8cc3d55635",
   "metadata": {},
   "outputs": [
    {
     "name": "stdout",
     "output_type": "stream",
     "text": [
      "Requirement already satisfied: qiskit-aer in c:\\users\\mk\\anaconda\\envs\\poc\\lib\\site-packages (0.16.0)\n",
      "Requirement already satisfied: qiskit>=1.1.0 in c:\\users\\mk\\anaconda\\envs\\poc\\lib\\site-packages (from qiskit-aer) (1.3.2)\n",
      "Requirement already satisfied: numpy>=1.16.3 in c:\\users\\mk\\anaconda\\envs\\poc\\lib\\site-packages (from qiskit-aer) (2.2.2)\n",
      "Requirement already satisfied: scipy>=1.0 in c:\\users\\mk\\anaconda\\envs\\poc\\lib\\site-packages (from qiskit-aer) (1.15.1)\n",
      "Requirement already satisfied: psutil>=5 in c:\\users\\mk\\anaconda\\envs\\poc\\lib\\site-packages (from qiskit-aer) (6.1.1)\n",
      "Requirement already satisfied: rustworkx>=0.15.0 in c:\\users\\mk\\anaconda\\envs\\poc\\lib\\site-packages (from qiskit>=1.1.0->qiskit-aer) (0.16.0)\n",
      "Requirement already satisfied: sympy>=1.3 in c:\\users\\mk\\anaconda\\envs\\poc\\lib\\site-packages (from qiskit>=1.1.0->qiskit-aer) (1.13.3)\n",
      "Requirement already satisfied: dill>=0.3 in c:\\users\\mk\\anaconda\\envs\\poc\\lib\\site-packages (from qiskit>=1.1.0->qiskit-aer) (0.3.9)\n",
      "Requirement already satisfied: python-dateutil>=2.8.0 in c:\\users\\mk\\anaconda\\envs\\poc\\lib\\site-packages (from qiskit>=1.1.0->qiskit-aer) (2.9.0.post0)\n",
      "Requirement already satisfied: stevedore>=3.0.0 in c:\\users\\mk\\anaconda\\envs\\poc\\lib\\site-packages (from qiskit>=1.1.0->qiskit-aer) (5.4.0)\n",
      "Requirement already satisfied: typing-extensions in c:\\users\\mk\\anaconda\\envs\\poc\\lib\\site-packages (from qiskit>=1.1.0->qiskit-aer) (4.12.2)\n",
      "Requirement already satisfied: symengine<0.14,>=0.11 in c:\\users\\mk\\anaconda\\envs\\poc\\lib\\site-packages (from qiskit>=1.1.0->qiskit-aer) (0.13.0)\n",
      "Requirement already satisfied: six>=1.5 in c:\\users\\mk\\anaconda\\envs\\poc\\lib\\site-packages (from python-dateutil>=2.8.0->qiskit>=1.1.0->qiskit-aer) (1.17.0)\n",
      "Requirement already satisfied: pbr>=2.0.0 in c:\\users\\mk\\anaconda\\envs\\poc\\lib\\site-packages (from stevedore>=3.0.0->qiskit>=1.1.0->qiskit-aer) (6.1.1)\n",
      "Requirement already satisfied: mpmath<1.4,>=1.1.0 in c:\\users\\mk\\anaconda\\envs\\poc\\lib\\site-packages (from sympy>=1.3->qiskit>=1.1.0->qiskit-aer) (1.3.0)\n",
      "Requirement already satisfied: setuptools in c:\\users\\mk\\anaconda\\envs\\poc\\lib\\site-packages (from pbr>=2.0.0->stevedore>=3.0.0->qiskit>=1.1.0->qiskit-aer) (75.8.0)\n",
      "Note: you may need to restart the kernel to use updated packages.\n"
     ]
    }
   ],
   "source": [
    "%pip install qiskit-aer"
   ]
  },
  {
   "cell_type": "code",
   "execution_count": 3,
   "id": "253b6427-f2ce-437c-b00f-ce3345830c01",
   "metadata": {},
   "outputs": [],
   "source": [
    "from qiskit import QuantumCircuit, transpile\n",
    "from qiskit_aer import Aer\n",
    "from qiskit.visualization import plot_histogram\n",
    "import matplotlib.pyplot as plt"
   ]
  },
  {
   "cell_type": "code",
   "execution_count": 20,
   "id": "231507a0-1f67-4f29-b5c1-298fcf7ce723",
   "metadata": {},
   "outputs": [],
   "source": [
    "def create_oracle(num_qubits, secret_index):\n",
    "    \"\"\"Create an oracle that marks the secret index state\"\"\"\n",
    "    oracle = QuantumCircuit(num_qubits)\n",
    "    \n",
    "    # Convert secret_index to binary string\n",
    "    target_state = format(secret_index, f'0{num_qubits}b')\n",
    "    \n",
    "    # Apply X gates where target state has 0s\n",
    "    for qubit, bit in enumerate(target_state):\n",
    "        if bit == '0':\n",
    "            oracle.x(qubit)\n",
    "    \n",
    "    # Apply multi-controlled Z gate using CZ decomposition\n",
    "    oracle.h(num_qubits-1)\n",
    "    oracle.mcx(control_qubits=list(range(num_qubits-1)), \n",
    "              target_qubit=num_qubits-1)\n",
    "    oracle.h(num_qubits-1)\n",
    "    \n",
    "    # Uncompute X gates\n",
    "    for qubit, bit in enumerate(target_state):\n",
    "        if bit == '0':\n",
    "            oracle.x(qubit)\n",
    "            \n",
    "    return oracle"
   ]
  },
  {
   "cell_type": "code",
   "execution_count": 21,
   "id": "1e7b3474",
   "metadata": {},
   "outputs": [],
   "source": [
    "def create_diffuser(num_qubits):\n",
    "    \"\"\"Create the Grover diffuser\"\"\"\n",
    "    qc = QuantumCircuit(num_qubits)\n",
    "    \n",
    "    # Apply H gates to all qubits\n",
    "    qc.h(range(num_qubits))\n",
    "    # Apply X gates to all qubits\n",
    "    qc.x(range(num_qubits))\n",
    "    \n",
    "    # Apply multi-controlled Z gate\n",
    "    qc.h(num_qubits-1)\n",
    "    qc.mcx(control_qubits=list(range(num_qubits-1)), \n",
    "           target_qubit=num_qubits-1)\n",
    "    qc.h(num_qubits-1)\n",
    "    \n",
    "    # Undo X gates\n",
    "    qc.x(range(num_qubits))\n",
    "    # Undo H gates\n",
    "    qc.h(range(num_qubits))\n",
    "    \n",
    "    return qc"
   ]
  },
  {
   "cell_type": "code",
   "execution_count": 22,
   "id": "a15f0b34",
   "metadata": {},
   "outputs": [],
   "source": [
    "def grover_algorithm(secret_index, num_qubits, shots=1000):\n",
    "    \"\"\"Implement Grover's Algorithm to find the secret password index\"\"\"\n",
    "    \n",
    "    # Create quantum circuit\n",
    "    qc = QuantumCircuit(num_qubits, num_qubits)\n",
    "    \n",
    "    # Initialize superposition\n",
    "    qc.h(range(num_qubits))\n",
    "    \n",
    "    # Optimal number of iterations (pi/4 * sqrt(N))\n",
    "    iterations = int(np.pi/4 * np.sqrt(2**num_qubits))\n",
    "    \n",
    "    # Apply Grover iterations\n",
    "    oracle = create_oracle(num_qubits, secret_index)\n",
    "    diffuser = create_diffuser(num_qubits)\n",
    "    \n",
    "    for _ in range(iterations):\n",
    "        qc = qc.compose(oracle)\n",
    "        qc = qc.compose(diffuser)\n",
    "    \n",
    "    # Measure all qubits\n",
    "    qc.measure(range(num_qubits), range(num_qubits))\n",
    "    \n",
    "    # Run the circuit\n",
    "    simulator = Aer.get_backend('aer_simulator')\n",
    "    transpiled_qc = transpile(qc, simulator)\n",
    "    result = simulator.run(transpiled_qc, shots=shots).result()\n",
    "    counts = result.get_counts()\n",
    "    \n",
    "    return counts"
   ]
  },
  {
   "cell_type": "code",
   "execution_count": 23,
   "id": "04e891d3",
   "metadata": {},
   "outputs": [],
   "source": [
    "import numpy as np"
   ]
  },
  {
   "cell_type": "code",
   "execution_count": 24,
   "id": "f303dd23",
   "metadata": {},
   "outputs": [],
   "source": [
    "# Set parameters\n",
    "num_qubits = 4\n",
    "secret_index = 5  # Binary: 0101\n",
    "shots = 1000\n",
    "\n",
    "# Run algorithm\n",
    "counts = grover_algorithm(secret_index, num_qubits, shots)"
   ]
  },
  {
   "cell_type": "code",
   "execution_count": 25,
   "id": "b2d4049b-126d-46ac-8464-92f2d848b306",
   "metadata": {},
   "outputs": [
    {
     "name": "stdout",
     "output_type": "stream",
     "text": [
      "Secret index (binary): 0101\n",
      "Quantum Search Result: {'1001': 2, '1010': 968, '0010': 2, '1011': 1, '0101': 3, '1111': 4, '0110': 6, '0111': 4, '1101': 2, '1000': 2, '1110': 2, '0100': 3, '1100': 1}\n"
     ]
    }
   ],
   "source": [
    "# Print results\n",
    "print(f\"Secret index (binary): {format(secret_index, f'0{num_qubits}b')}\")\n",
    "print(f\"Quantum Search Result: {counts}\")"
   ]
  },
  {
   "cell_type": "code",
   "execution_count": 26,
   "id": "0234a751",
   "metadata": {},
   "outputs": [
    {
     "data": {
      "image/png": "[encoded data removed]",
      "text/plain": [
       "<Figure size 1200x600 with 1 Axes>"
      ]
     },
     "metadata": {},
     "output_type": "display_data"
    }
   ],
   "source": [
    "# Create histogram with proper formatting\n",
    "plt.figure(figsize=(12, 6))\n",
    "plot_histogram(counts)\n",
    "plt.title(f\"Grover's Algorithm Results (searching for index {secret_index})\")\n",
    "plt.xlabel('State')\n",
    "plt.ylabel('Counts')\n",
    "plt.xticks(rotation=45)\n",
    "plt.grid(True, alpha=0.3)\n",
    "plt.tight_layout()\n",
    "plt.show()"
   ]
  },
  {
   "cell_type": "code",
   "execution_count": null,
   "id": "a3ce45d5",
   "metadata": {},
   "outputs": [],
   "source": []
  }
 ],
 "metadata": {
  "kernelspec": {
   "display_name": "poc",
   "language": "python",
   "name": "python3"
  },
  "language_info": {
   "codemirror_mode": {
    "name": "ipython",
    "version": 3
   },
   "file_extension": ".py",
   "mimetype": "text/x-python",
   "name": "python",
   "nbconvert_exporter": "python",
   "pygments_lexer": "ipython3",
   "version": "3.13.1"
  }
 },
 "nbformat": 4,
 "nbformat_minor": 5
}
