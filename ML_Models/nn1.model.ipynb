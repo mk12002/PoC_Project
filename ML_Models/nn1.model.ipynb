{
 "cells": [
  {
   "cell_type": "code",
   "execution_count": 1,
   "metadata": {},
   "outputs": [],
   "source": [
    "import pandas as pd\n",
    "import torch\n",
    "import torch.nn as nn\n",
    "import torch.optim as optim\n",
    "from torch.utils.data import DataLoader, TensorDataset, random_split\n",
    "import numpy as np\n",
    "from sklearn.model_selection import train_test_split\n",
    "from sklearn.preprocessing import StandardScaler\n",
    "from sklearn.metrics import accuracy_score, classification_report, confusion_matrix\n",
    "import matplotlib.pyplot as plt\n",
    "import seaborn as sns"
   ]
  },
  {
   "cell_type": "code",
   "execution_count": 2,
   "metadata": {},
   "outputs": [
    {
     "name": "stdout",
     "output_type": "stream",
     "text": [
      "   Num_Qubits_Sent  Num_Qubits_Measured_Correctly      QBER  \\\n",
      "0              602                           1353  0.110961   \n",
      "1              935                           1232  0.096435   \n",
      "2             1360                            539  0.278751   \n",
      "3              770                           1191  0.035574   \n",
      "4              606                            945  0.119535   \n",
      "\n",
      "   Photon_Splitting_Prob  Intercept_Resend_Prob  Eavesdropper_Success_Rate  \\\n",
      "0               0.277457               0.070006                   0.692565   \n",
      "1               0.377480               0.339186                   0.850066   \n",
      "2               0.072751               0.036580                   1.507777   \n",
      "3               0.307024               0.358663                   0.760745   \n",
      "4               0.234740               0.161902                   0.178185   \n",
      "\n",
      "   Final_Key_Length  Detector_Error_Rate  Quantum_Channel_Noise  \\\n",
      "0                60             0.032417               0.186467   \n",
      "1               250             0.028012               0.161204   \n",
      "2                 0             0.064429               0.097442   \n",
      "3              1186             0.003652               0.171200   \n",
      "4               710             0.036678               0.033438   \n",
      "\n",
      "   Attack_Detected  \n",
      "0                1  \n",
      "1                0  \n",
      "2                1  \n",
      "3                0  \n",
      "4                0  \n"
     ]
    }
   ],
   "source": [
    "csv_path = \"qkd_attack_dataset_v3.csv\"  # Replace with your actual file path\n",
    "df = pd.read_csv(csv_path)\n",
    "print(df.head())"
   ]
  },
  {
   "cell_type": "code",
   "execution_count": null,
   "metadata": {},
   "outputs": [],
   "source": [
    "X = df.iloc[:, :-1].values  \n",
    "y = df.iloc[:, -1].values   "
   ]
  },
  {
   "cell_type": "code",
   "execution_count": null,
   "metadata": {},
   "outputs": [],
   "source": [
    "if df.iloc[:, -1].dtype == 'object':  \n",
    "    y = (y == \"Attack\").astype(int)  \n"
   ]
  },
  {
   "cell_type": "code",
   "execution_count": null,
   "metadata": {},
   "outputs": [],
   "source": [
    "X_train, X_test, y_train, y_test = train_test_split(X, y, test_size=0.2, random_state=42)\n",
    "\n",
    "scaler = StandardScaler()\n",
    "X_train = scaler.fit_transform(X_train)\n",
    "X_test = scaler.transform(X_test)"
   ]
  },
  {
   "cell_type": "code",
   "execution_count": 6,
   "metadata": {},
   "outputs": [],
   "source": [
    "X_train_tensor = torch.tensor(X_train, dtype=torch.float32)\n",
    "X_test_tensor = torch.tensor(X_test, dtype=torch.float32)\n",
    "y_train_tensor = torch.tensor(y_train, dtype=torch.long)\n",
    "y_test_tensor = torch.tensor(y_test, dtype=torch.long)\n"
   ]
  },
  {
   "cell_type": "code",
   "execution_count": 8,
   "metadata": {},
   "outputs": [],
   "source": [
    "train_dataset = TensorDataset(X_train_tensor, y_train_tensor)\n",
    "test_dataset = TensorDataset(X_test_tensor, y_test_tensor)\n",
    "train_loader = DataLoader(train_dataset, batch_size=32, shuffle=True)\n",
    "test_loader = DataLoader(test_dataset, batch_size=32, shuffle=False)\n"
   ]
  },
  {
   "cell_type": "code",
   "execution_count": null,
   "metadata": {},
   "outputs": [],
   "source": [
    "class QKDAttackDetector(nn.Module):\n",
    "    def __init__(self, input_size):\n",
    "        super(QKDAttackDetector, self).__init__()\n",
    "        self.fc1 = nn.Linear(input_size, 128)\n",
    "        self.fc2 = nn.Linear(128, 64)\n",
    "        self.fc3 = nn.Linear(64, 2) \n",
    "        self.relu = nn.ReLU()\n",
    "        self.dropout = nn.Dropout(0.3)  \n",
    "        self.softmax = nn.Softmax(dim=1)\n",
    "\n",
    "    def forward(self, x):\n",
    "        x = self.relu(self.fc1(x))\n",
    "        x = self.dropout(x)\n",
    "        x = self.relu(self.fc2(x))\n",
    "        x = self.fc3(x)\n",
    "        return self.softmax(x)"
   ]
  },
  {
   "cell_type": "code",
   "execution_count": null,
   "metadata": {},
   "outputs": [],
   "source": [
    "input_size = X_train.shape[1] \n",
    "model = QKDAttackDetector(input_size)\n",
    "\n",
    "criterion = nn.CrossEntropyLoss()\n",
    "optimizer = optim.Adam(model.parameters(), lr=0.001)\n"
   ]
  },
  {
   "cell_type": "code",
   "execution_count": 19,
   "metadata": {},
   "outputs": [
    {
     "name": "stdout",
     "output_type": "stream",
     "text": [
      "Epoch 1/30, Loss: 97.5174\n",
      "Epoch 2/30, Loss: 97.7061\n",
      "Epoch 3/30, Loss: 97.5281\n",
      "Epoch 4/30, Loss: 97.4476\n",
      "Epoch 5/30, Loss: 97.5155\n",
      "Epoch 6/30, Loss: 97.0897\n",
      "Epoch 7/30, Loss: 96.8698\n",
      "Epoch 8/30, Loss: 97.2687\n",
      "Epoch 9/30, Loss: 97.0194\n",
      "Epoch 10/30, Loss: 96.5023\n",
      "Epoch 11/30, Loss: 96.5123\n",
      "Epoch 12/30, Loss: 97.0834\n",
      "Epoch 13/30, Loss: 96.9388\n",
      "Epoch 14/30, Loss: 96.9370\n",
      "Epoch 15/30, Loss: 96.2742\n",
      "Epoch 16/30, Loss: 97.0587\n",
      "Epoch 17/30, Loss: 96.5223\n",
      "Epoch 18/30, Loss: 96.2342\n",
      "Epoch 19/30, Loss: 96.2135\n",
      "Epoch 20/30, Loss: 96.1008\n",
      "Epoch 21/30, Loss: 95.7870\n",
      "Epoch 22/30, Loss: 96.3712\n",
      "Epoch 23/30, Loss: 95.6929\n",
      "Epoch 24/30, Loss: 95.7367\n",
      "Epoch 25/30, Loss: 95.6604\n",
      "Epoch 26/30, Loss: 95.8526\n",
      "Epoch 27/30, Loss: 95.4874\n",
      "Epoch 28/30, Loss: 95.8922\n",
      "Epoch 29/30, Loss: 94.9882\n",
      "Epoch 30/30, Loss: 95.4309\n"
     ]
    }
   ],
   "source": [
    "num_epochs = 30\n",
    "for epoch in range(num_epochs):\n",
    "    model.train()\n",
    "    total_loss = 0\n",
    "    for inputs, labels in train_loader:\n",
    "        optimizer.zero_grad()\n",
    "        outputs = model(inputs)\n",
    "        loss = criterion(outputs, labels)\n",
    "        loss.backward()\n",
    "        optimizer.step()\n",
    "        total_loss += loss.item()\n",
    "    \n",
    "    print(f\"Epoch {epoch+1}/{num_epochs}, Loss: {total_loss:.4f}\")\n"
   ]
  },
  {
   "cell_type": "code",
   "execution_count": 20,
   "metadata": {},
   "outputs": [],
   "source": [
    "model.eval()\n",
    "y_pred = []\n",
    "y_true = []\n",
    "with torch.no_grad():\n",
    "    for inputs, labels in test_loader:\n",
    "        outputs = model(inputs)\n",
    "        _, predicted = torch.max(outputs, 1)\n",
    "        y_pred.extend(predicted.numpy())\n",
    "        y_true.extend(labels.numpy())"
   ]
  },
  {
   "cell_type": "code",
   "execution_count": 21,
   "metadata": {},
   "outputs": [
    {
     "name": "stdout",
     "output_type": "stream",
     "text": [
      "Accuracy: 0.9150\n",
      "\n",
      "Classification Report:\n",
      "               precision    recall  f1-score   support\n",
      "\n",
      "           0       0.91      0.97      0.94      1314\n",
      "           1       0.93      0.81      0.87       686\n",
      "\n",
      "    accuracy                           0.92      2000\n",
      "   macro avg       0.92      0.89      0.90      2000\n",
      "weighted avg       0.92      0.92      0.91      2000\n",
      "\n"
     ]
    },
    {
     "data": {
      "image/png": "[encoded data removed]",
      "text/plain": [
       "<Figure size 600x400 with 2 Axes>"
      ]
     },
     "metadata": {},
     "output_type": "display_data"
    }
   ],
   "source": [
    "accuracy = accuracy_score(y_test, y_pred)\n",
    "print(f\"Accuracy: {accuracy:.4f}\")\n",
    "print(\"\\nClassification Report:\\n\", classification_report(y_true, y_pred))\n",
    "plt.figure(figsize=(6,4))\n",
    "sns.heatmap(confusion_matrix(y_test, y_pred), annot=True, fmt=\"d\", cmap=\"Blues\",\n",
    "            xticklabels=[\"No Attack\", \"Attack\"], yticklabels=[\"No Attack\", \"Attack\"])\n",
    "plt.xlabel(\"Predicted\")\n",
    "plt.ylabel(\"Actual\")\n",
    "plt.title(\"Confusion Matrix - Neural Network\")\n",
    "plt.show()"
   ]
  },
  {
   "cell_type": "code",
   "execution_count": null,
   "metadata": {},
   "outputs": [],
   "source": []
  }
 ],
 "metadata": {
  "kernelspec": {
   "display_name": "poc",
   "language": "python",
   "name": "python3"
  },
  "language_info": {
   "codemirror_mode": {
    "name": "ipython",
    "version": 3
   },
   "file_extension": ".py",
   "mimetype": "text/x-python",
   "name": "python",
   "nbconvert_exporter": "python",
   "pygments_lexer": "ipython3",
   "version": "3.13.1"
  }
 },
 "nbformat": 4,
 "nbformat_minor": 2
}
