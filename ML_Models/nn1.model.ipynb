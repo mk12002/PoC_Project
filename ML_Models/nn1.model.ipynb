{
 "cells": [
  {
   "cell_type": "code",
   "execution_count": 18,
   "metadata": {},
   "outputs": [],
   "source": [
    "import pandas as pd\n",
    "import torch\n",
    "import torch.nn as nn\n",
    "import torch.optim as optim\n",
    "from torch.utils.data import DataLoader, TensorDataset, random_split\n",
    "import numpy as np\n",
    "from sklearn.model_selection import train_test_split\n",
    "from sklearn.preprocessing import StandardScaler\n",
    "from sklearn.metrics import accuracy_score, classification_report, confusion_matrix\n",
    "import matplotlib.pyplot as plt\n",
    "import seaborn as sns"
   ]
  },
  {
   "cell_type": "code",
   "execution_count": 5,
   "metadata": {},
   "outputs": [
    {
     "name": "stdout",
     "output_type": "stream",
     "text": [
      "   Num_Qubits_Sent  Num_Qubits_Measured_Correctly      QBER  \\\n",
      "0              602                           1353  0.110961   \n",
      "1              935                           1232  0.096435   \n",
      "2             1360                            539  0.278751   \n",
      "3              770                           1191  0.035574   \n",
      "4              606                            945  0.119535   \n",
      "\n",
      "   Photon_Splitting_Prob  Intercept_Resend_Prob  Eavesdropper_Success_Rate  \\\n",
      "0               0.277457               0.070006                   0.692565   \n",
      "1               0.377480               0.339186                   0.850066   \n",
      "2               0.072751               0.036580                   1.507777   \n",
      "3               0.307024               0.358663                   0.760745   \n",
      "4               0.234740               0.161902                   0.178185   \n",
      "\n",
      "   Final_Key_Length  Detector_Error_Rate  Quantum_Channel_Noise  \\\n",
      "0                60             0.032417               0.186467   \n",
      "1               250             0.028012               0.161204   \n",
      "2                 0             0.064429               0.097442   \n",
      "3              1186             0.003652               0.171200   \n",
      "4               710             0.036678               0.033438   \n",
      "\n",
      "   Attack_Detected  \n",
      "0                1  \n",
      "1                0  \n",
      "2                1  \n",
      "3                0  \n",
      "4                0  \n"
     ]
    }
   ],
   "source": [
    "csv_path = \"qkd_attack_dataset_v3.csv\"  # Replace with your actual file path\n",
    "df = pd.read_csv(csv_path)\n",
    "print(df.head())"
   ]
  },
  {
   "cell_type": "code",
   "execution_count": 6,
   "metadata": {},
   "outputs": [],
   "source": [
    "X = df.iloc[:, :-1].values  # Features (all columns except last)\n",
    "y = df.iloc[:, -1].values   # Labels (last column)"
   ]
  },
  {
   "cell_type": "code",
   "execution_count": 7,
   "metadata": {},
   "outputs": [],
   "source": [
    "if df.iloc[:, -1].dtype == 'object':  \n",
    "    y = (y == \"Attack\").astype(int)  # Convert \"Attack\" -> 1, \"No Attack\" -> 0\n"
   ]
  },
  {
   "cell_type": "code",
   "execution_count": 8,
   "metadata": {},
   "outputs": [],
   "source": [
    "X_train, X_test, y_train, y_test = train_test_split(X, y, test_size=0.2, random_state=42)\n",
    "\n",
    "# ✅ Normalize Features (Standardization)\n",
    "scaler = StandardScaler()\n",
    "X_train = scaler.fit_transform(X_train)\n",
    "X_test = scaler.transform(X_test)"
   ]
  },
  {
   "cell_type": "code",
   "execution_count": 9,
   "metadata": {},
   "outputs": [],
   "source": [
    "X_train_tensor = torch.tensor(X_train, dtype=torch.float32)\n",
    "X_test_tensor = torch.tensor(X_test, dtype=torch.float32)\n",
    "y_train_tensor = torch.tensor(y_train, dtype=torch.long)\n",
    "y_test_tensor = torch.tensor(y_test, dtype=torch.long)\n"
   ]
  },
  {
   "cell_type": "code",
   "execution_count": 10,
   "metadata": {},
   "outputs": [],
   "source": [
    "train_dataset = TensorDataset(X_train_tensor, y_train_tensor)\n",
    "test_dataset = TensorDataset(X_test_tensor, y_test_tensor)\n",
    "train_loader = DataLoader(train_dataset, batch_size=32, shuffle=True)\n",
    "test_loader = DataLoader(test_dataset, batch_size=32, shuffle=False)\n"
   ]
  },
  {
   "cell_type": "code",
   "execution_count": 11,
   "metadata": {},
   "outputs": [],
   "source": [
    "class QKDAttackDetector(nn.Module):\n",
    "    def __init__(self, input_size):\n",
    "        super(QKDAttackDetector, self).__init__()\n",
    "        self.fc1 = nn.Linear(input_size, 128)\n",
    "        self.fc2 = nn.Linear(128, 64)\n",
    "        self.fc3 = nn.Linear(64, 2)  # 2 classes (Attack/No Attack)\n",
    "        self.relu = nn.ReLU()\n",
    "        self.dropout = nn.Dropout(0.3)  # Regularization to prevent overfitting\n",
    "        self.softmax = nn.Softmax(dim=1)\n",
    "\n",
    "    def forward(self, x):\n",
    "        x = self.relu(self.fc1(x))\n",
    "        x = self.dropout(x)\n",
    "        x = self.relu(self.fc2(x))\n",
    "        x = self.fc3(x)\n",
    "        return self.softmax(x)"
   ]
  },
  {
   "cell_type": "code",
   "execution_count": 12,
   "metadata": {},
   "outputs": [],
   "source": [
    "input_size = X_train.shape[1]  # Number of features\n",
    "model = QKDAttackDetector(input_size)\n",
    "\n",
    "# ✅ Loss Function & Optimizer\n",
    "criterion = nn.CrossEntropyLoss()\n",
    "optimizer = optim.Adam(model.parameters(), lr=0.001)\n"
   ]
  },
  {
   "cell_type": "code",
   "execution_count": 13,
   "metadata": {},
   "outputs": [
    {
     "name": "stdout",
     "output_type": "stream",
     "text": [
      "Epoch 1/20, Loss: 115.6289\n",
      "Epoch 2/20, Loss: 108.3609\n",
      "Epoch 3/20, Loss: 107.6904\n",
      "Epoch 4/20, Loss: 107.5970\n",
      "Epoch 5/20, Loss: 106.8316\n",
      "Epoch 6/20, Loss: 106.5283\n",
      "Epoch 7/20, Loss: 106.1915\n",
      "Epoch 8/20, Loss: 105.8154\n",
      "Epoch 9/20, Loss: 105.6482\n",
      "Epoch 10/20, Loss: 105.2471\n",
      "Epoch 11/20, Loss: 104.9659\n",
      "Epoch 12/20, Loss: 104.8721\n",
      "Epoch 13/20, Loss: 104.3205\n",
      "Epoch 14/20, Loss: 104.1205\n",
      "Epoch 15/20, Loss: 103.2063\n",
      "Epoch 16/20, Loss: 103.6635\n",
      "Epoch 17/20, Loss: 103.2114\n",
      "Epoch 18/20, Loss: 102.5567\n",
      "Epoch 19/20, Loss: 102.1416\n",
      "Epoch 20/20, Loss: 101.8418\n"
     ]
    }
   ],
   "source": [
    "num_epochs = 20\n",
    "for epoch in range(num_epochs):\n",
    "    model.train()\n",
    "    total_loss = 0\n",
    "    for inputs, labels in train_loader:\n",
    "        optimizer.zero_grad()\n",
    "        outputs = model(inputs)\n",
    "        loss = criterion(outputs, labels)\n",
    "        loss.backward()\n",
    "        optimizer.step()\n",
    "        total_loss += loss.item()\n",
    "    \n",
    "    print(f\"Epoch {epoch+1}/{num_epochs}, Loss: {total_loss:.4f}\")\n"
   ]
  },
  {
   "cell_type": "code",
   "execution_count": 14,
   "metadata": {},
   "outputs": [],
   "source": [
    "model.eval()\n",
    "y_pred = []\n",
    "y_true = []\n",
    "with torch.no_grad():\n",
    "    for inputs, labels in test_loader:\n",
    "        outputs = model(inputs)\n",
    "        _, predicted = torch.max(outputs, 1)\n",
    "        y_pred.extend(predicted.numpy())\n",
    "        y_true.extend(labels.numpy())"
   ]
  },
  {
   "cell_type": "code",
   "execution_count": 19,
   "metadata": {},
   "outputs": [
    {
     "name": "stdout",
     "output_type": "stream",
     "text": [
      "Accuracy: 0.9005\n",
      "\n",
      "Classification Report:\n",
      "               precision    recall  f1-score   support\n",
      "\n",
      "           0       0.89      0.97      0.93      1314\n",
      "           1       0.94      0.76      0.84       686\n",
      "\n",
      "    accuracy                           0.90      2000\n",
      "   macro avg       0.91      0.87      0.88      2000\n",
      "weighted avg       0.90      0.90      0.90      2000\n",
      "\n"
     ]
    },
    {
     "data": {
      "image/png": "[encoded data removed]",
      "text/plain": [
       "<Figure size 600x400 with 2 Axes>"
      ]
     },
     "metadata": {},
     "output_type": "display_data"
    }
   ],
   "source": [
    "accuracy = accuracy_score(y_test, y_pred)\n",
    "print(f\"Accuracy: {accuracy:.4f}\")\n",
    "print(\"\\nClassification Report:\\n\", classification_report(y_true, y_pred))\n",
    "plt.figure(figsize=(6,4))\n",
    "sns.heatmap(confusion_matrix(y_test, y_pred), annot=True, fmt=\"d\", cmap=\"Blues\",\n",
    "            xticklabels=[\"No Attack\", \"Attack\"], yticklabels=[\"No Attack\", \"Attack\"])\n",
    "plt.xlabel(\"Predicted\")\n",
    "plt.ylabel(\"Actual\")\n",
    "plt.title(\"Confusion Matrix - Neural Network\")\n",
    "plt.show()"
   ]
  },
  {
   "cell_type": "code",
   "execution_count": null,
   "metadata": {},
   "outputs": [],
   "source": []
  }
 ],
 "metadata": {
  "kernelspec": {
   "display_name": "poc",
   "language": "python",
   "name": "python3"
  },
  "language_info": {
   "codemirror_mode": {
    "name": "ipython",
    "version": 3
   },
   "file_extension": ".py",
   "mimetype": "text/x-python",
   "name": "python",
   "nbconvert_exporter": "python",
   "pygments_lexer": "ipython3",
   "version": "3.13.1"
  }
 },
 "nbformat": 4,
 "nbformat_minor": 2
}
